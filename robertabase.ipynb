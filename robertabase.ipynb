{
 "cells": [
  {
   "cell_type": "code",
   "execution_count": 76,
   "metadata": {},
   "outputs": [],
   "source": [
    "from transformers import AutoTokenizer, AutoModelForSequenceClassification\n",
    "from scipy.special import softmax\n",
    "import numpy as np\n",
    "import pandas as pd\n",
    "import matplotlib.pyplot as plt\n",
    "import seaborn as sns"
   ]
  },
  {
   "cell_type": "code",
   "execution_count": 77,
   "metadata": {},
   "outputs": [],
   "source": [
    "df = pd.read_csv('tweet.csv')"
   ]
  },
  {
   "cell_type": "code",
   "execution_count": 78,
   "metadata": {},
   "outputs": [
    {
     "data": {
      "text/html": [
       "<div>\n",
       "<style scoped>\n",
       "    .dataframe tbody tr th:only-of-type {\n",
       "        vertical-align: middle;\n",
       "    }\n",
       "\n",
       "    .dataframe tbody tr th {\n",
       "        vertical-align: top;\n",
       "    }\n",
       "\n",
       "    .dataframe thead th {\n",
       "        text-align: right;\n",
       "    }\n",
       "</style>\n",
       "<table border=\"1\" class=\"dataframe\">\n",
       "  <thead>\n",
       "    <tr style=\"text-align: right;\">\n",
       "      <th></th>\n",
       "      <th>No</th>\n",
       "      <th>Date</th>\n",
       "      <th>Username</th>\n",
       "      <th>Tweet</th>\n",
       "    </tr>\n",
       "  </thead>\n",
       "  <tbody>\n",
       "    <tr>\n",
       "      <th>0</th>\n",
       "      <td>1</td>\n",
       "      <td>2022-05-30 23:59:42+00:00</td>\n",
       "      <td>fednanen</td>\n",
       "      <td>@arkulari Makes me sick that some CFC fans hav...</td>\n",
       "    </tr>\n",
       "    <tr>\n",
       "      <th>1</th>\n",
       "      <td>2</td>\n",
       "      <td>2022-05-30 23:59:39+00:00</td>\n",
       "      <td>thvstwt</td>\n",
       "      <td>@Louis_Tomlinson did you watch the UCL final?</td>\n",
       "    </tr>\n",
       "    <tr>\n",
       "      <th>2</th>\n",
       "      <td>3</td>\n",
       "      <td>2022-05-30 23:59:22+00:00</td>\n",
       "      <td>lunatik1887</td>\n",
       "      <td>@MadeiraCakes @MoBob8208 @ethanpvt @Ultra_Suri...</td>\n",
       "    </tr>\n",
       "    <tr>\n",
       "      <th>3</th>\n",
       "      <td>4</td>\n",
       "      <td>2022-05-30 23:59:18+00:00</td>\n",
       "      <td>HxnchoIini</td>\n",
       "      <td>@mackutdd Says all of this but has only seen h...</td>\n",
       "    </tr>\n",
       "    <tr>\n",
       "      <th>4</th>\n",
       "      <td>5</td>\n",
       "      <td>2022-05-30 23:59:16+00:00</td>\n",
       "      <td>mxfahad3</td>\n",
       "      <td>Vini, Havertz, Coman, Origi, Salah, Bale, Benz...</td>\n",
       "    </tr>\n",
       "  </tbody>\n",
       "</table>\n",
       "</div>"
      ],
      "text/plain": [
       "   No                       Date     Username  \\\n",
       "0   1  2022-05-30 23:59:42+00:00     fednanen   \n",
       "1   2  2022-05-30 23:59:39+00:00      thvstwt   \n",
       "2   3  2022-05-30 23:59:22+00:00  lunatik1887   \n",
       "3   4  2022-05-30 23:59:18+00:00   HxnchoIini   \n",
       "4   5  2022-05-30 23:59:16+00:00     mxfahad3   \n",
       "\n",
       "                                               Tweet  \n",
       "0  @arkulari Makes me sick that some CFC fans hav...  \n",
       "1      @Louis_Tomlinson did you watch the UCL final?  \n",
       "2  @MadeiraCakes @MoBob8208 @ethanpvt @Ultra_Suri...  \n",
       "3  @mackutdd Says all of this but has only seen h...  \n",
       "4  Vini, Havertz, Coman, Origi, Salah, Bale, Benz...  "
      ]
     },
     "execution_count": 78,
     "metadata": {},
     "output_type": "execute_result"
    }
   ],
   "source": [
    "df.head()"
   ]
  },
  {
   "cell_type": "markdown",
   "metadata": {},
   "source": [
    "**Clean Tweet From Unwanted String**"
   ]
  },
  {
   "cell_type": "code",
   "execution_count": 79,
   "metadata": {},
   "outputs": [],
   "source": [
    "df.Tweet = df.Tweet.replace(r'\\n',' ', regex=True) "
   ]
  },
  {
   "cell_type": "code",
   "execution_count": 80,
   "metadata": {},
   "outputs": [],
   "source": [
    "def preprocess(text):\n",
    "    new_text = []\n",
    "    for t in text.strip().split(\" \"):\n",
    "        t = '@user' if t.startswith('@') and len(t) > 1 else t\n",
    "        t = 'http' if t.startswith('http') else t\n",
    "        new_text.append(t)\n",
    "    return \" \".join(new_text)"
   ]
  },
  {
   "cell_type": "code",
   "execution_count": 81,
   "metadata": {},
   "outputs": [],
   "source": [
    "df['Tweet'] = df['Tweet'].map(lambda x: preprocess(x))"
   ]
  },
  {
   "cell_type": "code",
   "execution_count": 82,
   "metadata": {},
   "outputs": [
    {
     "data": {
      "text/plain": [
       "0    @user Makes me sick that some CFC fans have fo...\n",
       "1                   @user did you watch the UCL final?\n",
       "2    @user @user @user @user Stop talking about the...\n",
       "3    @user Says all of this but has only seen his U...\n",
       "4    Vini, Havertz, Coman, Origi, Salah, Bale, Benz...\n",
       "Name: Tweet, dtype: object"
      ]
     },
     "execution_count": 82,
     "metadata": {},
     "output_type": "execute_result"
    }
   ],
   "source": [
    "df.Tweet.head()"
   ]
  },
  {
   "cell_type": "markdown",
   "metadata": {},
   "source": [
    "**Load Model and Tokenizer**"
   ]
  },
  {
   "cell_type": "code",
   "execution_count": 83,
   "metadata": {},
   "outputs": [],
   "source": [
    "roberta = f\"cardiffnlp/twitter-roberta-base-sentiment\"\n",
    "model = AutoModelForSequenceClassification.from_pretrained(roberta)\n",
    "tokenizer = AutoTokenizer.from_pretrained(roberta)\n",
    "model.save_pretrained(roberta)\n",
    "tokenizer.save_pretrained(roberta)\n",
    "labels = ['Negative', 'Neutral', 'Positive']"
   ]
  },
  {
   "cell_type": "markdown",
   "metadata": {},
   "source": [
    "**Sentiment Analysis**"
   ]
  },
  {
   "cell_type": "code",
   "execution_count": 84,
   "metadata": {},
   "outputs": [],
   "source": [
    "def sentiment(tweet):\n",
    "    encoded_tweet = tokenizer(preprocess(tweet), return_tensors='pt')\n",
    "    output = model(encoded_tweet['input_ids'], encoded_tweet['attention_mask'])\n",
    "    scores = output[0][0].detach().numpy()\n",
    "    scores = softmax(scores)\n",
    "    max_value = max(scores)\n",
    "    list_scores = list(scores)\n",
    "    index = list_scores.index(max_value)\n",
    "    # print(labels[index], max_value)\n",
    "    return pd.Series([max_value, labels[index]])"
   ]
  },
  {
   "cell_type": "code",
   "execution_count": 85,
   "metadata": {},
   "outputs": [],
   "source": [
    "df[['Score', 'Label']] = df['Tweet'].apply(lambda x: sentiment(x))"
   ]
  },
  {
   "cell_type": "code",
   "execution_count": 86,
   "metadata": {},
   "outputs": [
    {
     "data": {
      "text/html": [
       "<div>\n",
       "<style scoped>\n",
       "    .dataframe tbody tr th:only-of-type {\n",
       "        vertical-align: middle;\n",
       "    }\n",
       "\n",
       "    .dataframe tbody tr th {\n",
       "        vertical-align: top;\n",
       "    }\n",
       "\n",
       "    .dataframe thead th {\n",
       "        text-align: right;\n",
       "    }\n",
       "</style>\n",
       "<table border=\"1\" class=\"dataframe\">\n",
       "  <thead>\n",
       "    <tr style=\"text-align: right;\">\n",
       "      <th></th>\n",
       "      <th>No</th>\n",
       "      <th>Date</th>\n",
       "      <th>Username</th>\n",
       "      <th>Tweet</th>\n",
       "      <th>Score</th>\n",
       "      <th>Label</th>\n",
       "    </tr>\n",
       "  </thead>\n",
       "  <tbody>\n",
       "    <tr>\n",
       "      <th>0</th>\n",
       "      <td>1</td>\n",
       "      <td>2022-05-30 23:59:42+00:00</td>\n",
       "      <td>fednanen</td>\n",
       "      <td>@user Makes me sick that some CFC fans have fo...</td>\n",
       "      <td>0.859798</td>\n",
       "      <td>Negative</td>\n",
       "    </tr>\n",
       "    <tr>\n",
       "      <th>1</th>\n",
       "      <td>2</td>\n",
       "      <td>2022-05-30 23:59:39+00:00</td>\n",
       "      <td>thvstwt</td>\n",
       "      <td>@user did you watch the UCL final?</td>\n",
       "      <td>0.880020</td>\n",
       "      <td>Neutral</td>\n",
       "    </tr>\n",
       "    <tr>\n",
       "      <th>2</th>\n",
       "      <td>3</td>\n",
       "      <td>2022-05-30 23:59:22+00:00</td>\n",
       "      <td>lunatik1887</td>\n",
       "      <td>@user @user @user @user Stop talking about the...</td>\n",
       "      <td>0.625723</td>\n",
       "      <td>Neutral</td>\n",
       "    </tr>\n",
       "    <tr>\n",
       "      <th>3</th>\n",
       "      <td>4</td>\n",
       "      <td>2022-05-30 23:59:18+00:00</td>\n",
       "      <td>HxnchoIini</td>\n",
       "      <td>@user Says all of this but has only seen his U...</td>\n",
       "      <td>0.506189</td>\n",
       "      <td>Neutral</td>\n",
       "    </tr>\n",
       "    <tr>\n",
       "      <th>4</th>\n",
       "      <td>5</td>\n",
       "      <td>2022-05-30 23:59:16+00:00</td>\n",
       "      <td>mxfahad3</td>\n",
       "      <td>Vini, Havertz, Coman, Origi, Salah, Bale, Benz...</td>\n",
       "      <td>0.716288</td>\n",
       "      <td>Neutral</td>\n",
       "    </tr>\n",
       "  </tbody>\n",
       "</table>\n",
       "</div>"
      ],
      "text/plain": [
       "   No                       Date     Username  \\\n",
       "0   1  2022-05-30 23:59:42+00:00     fednanen   \n",
       "1   2  2022-05-30 23:59:39+00:00      thvstwt   \n",
       "2   3  2022-05-30 23:59:22+00:00  lunatik1887   \n",
       "3   4  2022-05-30 23:59:18+00:00   HxnchoIini   \n",
       "4   5  2022-05-30 23:59:16+00:00     mxfahad3   \n",
       "\n",
       "                                               Tweet     Score     Label  \n",
       "0  @user Makes me sick that some CFC fans have fo...  0.859798  Negative  \n",
       "1                 @user did you watch the UCL final?  0.880020   Neutral  \n",
       "2  @user @user @user @user Stop talking about the...  0.625723   Neutral  \n",
       "3  @user Says all of this but has only seen his U...  0.506189   Neutral  \n",
       "4  Vini, Havertz, Coman, Origi, Salah, Bale, Benz...  0.716288   Neutral  "
      ]
     },
     "execution_count": 86,
     "metadata": {},
     "output_type": "execute_result"
    }
   ],
   "source": [
    "df.head()"
   ]
  },
  {
   "cell_type": "code",
   "execution_count": 87,
   "metadata": {},
   "outputs": [
    {
     "data": {
      "text/plain": [
       "\"This manhwa is awesome! I can't get enough of it!   #subwoolfer #UCL #comic #savetf2  http http\""
      ]
     },
     "execution_count": 87,
     "metadata": {},
     "output_type": "execute_result"
    }
   ],
   "source": [
    "df.Tweet[98]"
   ]
  },
  {
   "cell_type": "code",
   "execution_count": 88,
   "metadata": {},
   "outputs": [],
   "source": [
    "df.to_csv('tweet_after_1.csv')"
   ]
  },
  {
   "cell_type": "code",
   "execution_count": 89,
   "metadata": {},
   "outputs": [
    {
     "data": {
      "image/png": "[encoded data removed]",
      "text/plain": [
       "<Figure size 576x576 with 1 Axes>"
      ]
     },
     "metadata": {},
     "output_type": "display_data"
    }
   ],
   "source": [
    "data = df['Label'].value_counts()\n",
    "labels = df['Label'].unique()\n",
    "colors = sns.color_palette('pastel')[0:5]\n",
    "plt.figure(figsize=(8,8))\n",
    "plt.title('Percentage of Sentiment')\n",
    "plt.pie(data, labels = labels, colors = colors, autopct='%.0f%%')\n",
    "plt.show()"
   ]
  },
  {
   "cell_type": "code",
   "execution_count": 90,
   "metadata": {},
   "outputs": [
    {
     "data": {
      "text/plain": [
       "Neutral     5037\n",
       "Positive    2527\n",
       "Negative    2436\n",
       "Name: Label, dtype: int64"
      ]
     },
     "execution_count": 90,
     "metadata": {},
     "output_type": "execute_result"
    }
   ],
   "source": [
    "df['Label'].value_counts()"
   ]
  },
  {
   "cell_type": "code",
   "execution_count": null,
   "metadata": {},
   "outputs": [],
   "source": []
  }
 ],
 "metadata": {
  "interpreter": {
   "hash": "c18f7c3fef575bf519fd6ad95324357853d016a246a892acea1675323abef8cb"
  },
  "kernelspec": {
   "display_name": "Python 3.8.8 ('sns')",
   "language": "python",
   "name": "python3"
  },
  "language_info": {
   "codemirror_mode": {
    "name": "ipython",
    "version": 3
   },
   "file_extension": ".py",
   "mimetype": "text/x-python",
   "name": "python",
   "nbconvert_exporter": "python",
   "pygments_lexer": "ipython3",
   "version": "3.8.8"
  },
  "orig_nbformat": 4
 },
 "nbformat": 4,
 "nbformat_minor": 2
}
